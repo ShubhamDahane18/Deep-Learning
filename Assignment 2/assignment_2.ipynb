{
 "cells": [
  {
   "cell_type": "code",
   "execution_count": 1,
   "id": "0bb5854d",
   "metadata": {},
   "outputs": [],
   "source": [
    "import numpy as np\n",
    "import matplotlib.pyplot as plt\n",
    "from sklearn.datasets import fetch_lfw_people\n",
    "from sklearn.model_selection import train_test_split\n",
    "from sklearn.metrics import classification_report, confusion_matrix\n",
    "from tensorflow.keras.models import Sequential\n",
    "from tensorflow.keras.layers import Conv2D, MaxPooling2D, Flatten, Dense, Dropout\n",
    "import seaborn as sns\n"
   ]
  },
  {
   "cell_type": "code",
   "execution_count": 2,
   "id": "5bd84be4",
   "metadata": {},
   "outputs": [
    {
     "name": "stdout",
     "output_type": "stream",
     "text": [
      "Available persons: ['Ariel Sharon' 'Colin Powell' 'Donald Rumsfeld' 'George W Bush'\n",
      " 'Gerhard Schroeder' 'Hugo Chavez' 'Jacques Chirac' 'Jean Chretien'\n",
      " 'John Ashcroft' 'Junichiro Koizumi']\n",
      "Dataset shape: (1560, 50, 37, 3)\n",
      "Number of classes: 12\n"
     ]
    }
   ],
   "source": [
    "# Load LFW dataset (only people with >=50 images)\n",
    "lfw = fetch_lfw_people(min_faces_per_person=50, resize=0.4, color=True)\n",
    "X = lfw.images\n",
    "y = lfw.target\n",
    "names = lfw.target_names\n",
    "\n",
    "print(\"Available persons:\", names[:10])   # print first 10 names\n",
    "print(\"Dataset shape:\", X.shape)\n",
    "print(\"Number of classes:\", len(names))"
   ]
  },
  {
   "cell_type": "code",
   "execution_count": 3,
   "id": "61d27c39",
   "metadata": {},
   "outputs": [
    {
     "data": {
      "text/plain": [
       "array([[[[1.5840061e-03, 1.2764322e-03, 8.7658595e-04],\n",
       "         [1.7377932e-03, 1.4302192e-03, 1.0149943e-03],\n",
       "         [2.1376396e-03, 1.8146867e-03, 1.3687044e-03],\n",
       "         ...,\n",
       "         [1.1687813e-03, 8.9196465e-04, 3.5371011e-04],\n",
       "         [1.2610535e-03, 1.0611304e-03, 5.5363326e-04],\n",
       "         [1.4609765e-03, 1.3225683e-03, 8.1507111e-04]],\n",
       "\n",
       "        [[1.6916571e-03, 1.3994618e-03, 9.8423695e-04],\n",
       "         [1.8300654e-03, 1.5378700e-03, 1.0611304e-03],\n",
       "         [1.9377163e-03, 1.6301422e-03, 1.1226452e-03],\n",
       "         ...,\n",
       "         [1.1380239e-03, 8.3044986e-04, 2.6143793e-04],\n",
       "         [1.0149943e-03, 7.9969241e-04, 2.7681663e-04],\n",
       "         [1.3687044e-03, 1.2149174e-03, 7.0742023e-04]],\n",
       "\n",
       "        [[1.7531719e-03, 1.4917339e-03, 1.0611304e-03],\n",
       "         [1.8146867e-03, 1.5224913e-03, 1.0457517e-03],\n",
       "         [1.6608997e-03, 1.3379470e-03, 8.3044986e-04],\n",
       "         ...,\n",
       "         [1.3687044e-03, 1.0303730e-03, 4.4598232e-04],\n",
       "         [1.0457517e-03, 7.8431371e-04, 2.7681663e-04],\n",
       "         [1.1534026e-03, 9.5347944e-04, 4.7673972e-04]],\n",
       "\n",
       "        ...,\n",
       "\n",
       "        [[7.5355632e-04, 7.8431371e-04, 7.0742023e-04],\n",
       "         [7.2279893e-04, 7.5355632e-04, 6.7666284e-04],\n",
       "         [7.0742023e-04, 7.3817762e-04, 6.6128414e-04],\n",
       "         ...,\n",
       "         [2.9527105e-03, 2.9065744e-03, 2.6605153e-03],\n",
       "         [2.1068822e-03, 2.0607461e-03, 1.8608228e-03],\n",
       "         [1.3379470e-03, 1.3533257e-03, 1.1687813e-03]],\n",
       "\n",
       "        [[7.3817762e-04, 7.6893502e-04, 7.0742023e-04],\n",
       "         [7.2279893e-04, 7.5355632e-04, 6.9204153e-04],\n",
       "         [7.0742023e-04, 7.3817762e-04, 6.7666284e-04],\n",
       "         ...,\n",
       "         [2.4605922e-03, 2.4452135e-03, 2.1683970e-03],\n",
       "         [2.3068052e-03, 2.2760478e-03, 2.0453674e-03],\n",
       "         [1.5532487e-03, 1.5532487e-03, 1.3687044e-03]],\n",
       "\n",
       "        [[7.3817762e-04, 7.6893502e-04, 6.9204153e-04],\n",
       "         [7.2279893e-04, 7.5355632e-04, 7.0742023e-04],\n",
       "         [7.0742023e-04, 7.3817762e-04, 6.7666284e-04],\n",
       "         ...,\n",
       "         [1.7531719e-03, 1.7531719e-03, 1.4609765e-03],\n",
       "         [2.4144561e-03, 2.3990774e-03, 2.1530183e-03],\n",
       "         [1.9992313e-03, 1.9838526e-03, 1.7839293e-03]]],\n",
       "\n",
       "\n",
       "       [[[7.2279893e-04, 5.2287587e-04, 3.8446751e-04],\n",
       "         [1.3840831e-03, 1.0149943e-03, 8.1507111e-04],\n",
       "         [1.7531719e-03, 1.2149174e-03, 9.6885813e-04],\n",
       "         ...,\n",
       "         [1.2918109e-03, 9.3810074e-04, 6.7666284e-04],\n",
       "         [8.9196465e-04, 6.6128414e-04, 4.4598232e-04],\n",
       "         [7.9969241e-04, 6.6128414e-04, 4.6136102e-04]],\n",
       "\n",
       "        [[8.9196465e-04, 6.9204153e-04, 4.9211847e-04],\n",
       "         [1.5686274e-03, 1.1841600e-03, 9.3810074e-04],\n",
       "         [1.7839293e-03, 1.2302961e-03, 9.2272204e-04],\n",
       "         ...,\n",
       "         [1.5686274e-03, 1.1687813e-03, 8.9196465e-04],\n",
       "         [1.1072665e-03, 8.4582856e-04, 6.4590544e-04],\n",
       "         [9.6885813e-04, 8.3044986e-04, 6.3052675e-04]],\n",
       "\n",
       "        [[1.0611304e-03, 7.8431371e-04, 5.9976935e-04],\n",
       "         [1.6762784e-03, 1.1995387e-03, 9.8423695e-04],\n",
       "         [1.7839293e-03, 1.1995387e-03, 9.0734335e-04],\n",
       "         ...,\n",
       "         [1.8146867e-03, 1.3840831e-03, 1.1226452e-03],\n",
       "         [1.1995387e-03, 9.3810074e-04, 7.0742023e-04],\n",
       "         [1.0457517e-03, 8.7658595e-04, 6.7666284e-04]],\n",
       "\n",
       "        ...,\n",
       "\n",
       "        [[1.5378701e-04, 7.6893506e-05, 9.2272203e-05],\n",
       "         [1.1226452e-03, 8.6120726e-04, 7.3817762e-04],\n",
       "         [2.4605922e-03, 2.0453674e-03, 1.7839293e-03],\n",
       "         ...,\n",
       "         [3.1680122e-03, 3.3217994e-03, 3.7677817e-03],\n",
       "         [2.8911957e-03, 3.1064975e-03, 3.5986160e-03],\n",
       "         [2.6912726e-03, 2.9527105e-03, 3.4909651e-03]],\n",
       "\n",
       "        [[1.5378701e-04, 7.6893506e-05, 7.6893506e-05],\n",
       "         [1.1687813e-03, 9.0734335e-04, 7.6893502e-04],\n",
       "         [2.5221070e-03, 2.0915035e-03, 1.8146867e-03],\n",
       "         ...,\n",
       "         [1.5840061e-03, 1.7070358e-03, 2.1683970e-03],\n",
       "         [1.5840061e-03, 1.7839293e-03, 2.2299117e-03],\n",
       "         [1.5840061e-03, 1.8300654e-03, 2.2606691e-03]],\n",
       "\n",
       "        [[1.3840832e-04, 6.1514809e-05, 4.6136101e-05],\n",
       "         [1.1995387e-03, 9.5347944e-04, 8.3044986e-04],\n",
       "         [2.5528644e-03, 2.0915035e-03, 1.8146867e-03],\n",
       "         ...,\n",
       "         [6.7666284e-04, 8.3044986e-04, 1.2610535e-03],\n",
       "         [9.9961564e-04, 1.1995387e-03, 1.6455210e-03],\n",
       "         [1.4917339e-03, 1.7070358e-03, 2.1530183e-03]]],\n",
       "\n",
       "\n",
       "       [[[1.5071126e-03, 1.5224913e-03, 9.2272204e-04],\n",
       "         [1.0303730e-03, 1.0303730e-03, 5.0749717e-04],\n",
       "         [1.0303730e-03, 1.0611304e-03, 5.8439065e-04],\n",
       "         ...,\n",
       "         [1.8454441e-03, 1.8300654e-03, 9.5347944e-04],\n",
       "         [1.7531719e-03, 1.7531719e-03, 9.5347944e-04],\n",
       "         [1.7531719e-03, 1.7531719e-03, 9.8423695e-04]],\n",
       "\n",
       "        [[1.2302961e-03, 1.2456748e-03, 7.0742023e-04],\n",
       "         [1.1226452e-03, 1.1534026e-03, 6.7666284e-04],\n",
       "         [1.0149943e-03, 1.0457517e-03, 6.3052675e-04],\n",
       "         ...,\n",
       "         [1.7685506e-03, 1.7377932e-03, 9.5347944e-04],\n",
       "         [1.7377932e-03, 1.7224145e-03, 9.8423695e-04],\n",
       "         [1.7685506e-03, 1.7531719e-03, 9.9961564e-04]],\n",
       "\n",
       "        [[1.0918878e-03, 1.1226452e-03, 6.4590544e-04],\n",
       "         [1.0303730e-03, 1.0457517e-03, 5.9976935e-04],\n",
       "         [1.0765091e-03, 1.0611304e-03, 6.3052675e-04],\n",
       "         ...,\n",
       "         [1.7685506e-03, 1.7070358e-03, 1.0457517e-03],\n",
       "         [1.7070358e-03, 1.6762784e-03, 9.9961564e-04],\n",
       "         [1.7224145e-03, 1.7070358e-03, 9.9961564e-04]],\n",
       "\n",
       "        ...,\n",
       "\n",
       "        [[2.0299887e-03, 1.9992313e-03, 1.1380239e-03],\n",
       "         [1.9684739e-03, 1.9223376e-03, 1.0765091e-03],\n",
       "         [1.9838526e-03, 1.9377163e-03, 1.1072665e-03],\n",
       "         ...,\n",
       "         [2.9834679e-03, 2.6143792e-03, 2.1222609e-03],\n",
       "         [2.5682431e-03, 2.3221839e-03, 1.6916571e-03],\n",
       "         [2.2606691e-03, 2.1530183e-03, 1.4148405e-03]],\n",
       "\n",
       "        [[2.0146100e-03, 1.9992313e-03, 1.1534026e-03],\n",
       "         [2.0299887e-03, 1.9838526e-03, 1.1687813e-03],\n",
       "         [2.0607461e-03, 2.0146100e-03, 1.1841600e-03],\n",
       "         ...,\n",
       "         [3.0603614e-03, 2.6758939e-03, 2.3068052e-03],\n",
       "         [2.4452135e-03, 2.2145330e-03, 1.7070358e-03],\n",
       "         [2.1991543e-03, 2.0915035e-03, 1.4763552e-03]],\n",
       "\n",
       "        [[2.0453674e-03, 2.0146100e-03, 1.2149174e-03],\n",
       "         [2.0607461e-03, 2.0299887e-03, 1.1995387e-03],\n",
       "         [2.0761248e-03, 2.0453674e-03, 1.1995387e-03],\n",
       "         ...,\n",
       "         [3.0142253e-03, 2.6758939e-03, 2.4605922e-03],\n",
       "         [1.4763552e-03, 1.3071896e-03, 9.9961564e-04],\n",
       "         [1.3687044e-03, 1.3379470e-03, 8.6120726e-04]]],\n",
       "\n",
       "\n",
       "       ...,\n",
       "\n",
       "\n",
       "       [[[4.6136102e-04, 6.3052675e-04, 1.1841600e-03],\n",
       "         [7.9969241e-04, 9.0734335e-04, 1.1995387e-03],\n",
       "         [1.3071896e-03, 1.3687044e-03, 1.3533257e-03],\n",
       "         ...,\n",
       "         [2.8450596e-03, 2.3221839e-03, 1.7531719e-03],\n",
       "         [2.8604383e-03, 2.3529413e-03, 1.7839293e-03],\n",
       "         [2.7066513e-03, 2.2452904e-03, 1.6916571e-03]],\n",
       "\n",
       "        [[6.4590544e-04, 7.8431371e-04, 1.2610535e-03],\n",
       "         [1.1687813e-03, 1.2149174e-03, 1.4148405e-03],\n",
       "         [1.5686274e-03, 1.5532487e-03, 1.4763552e-03],\n",
       "         ...,\n",
       "         [2.8143022e-03, 2.2914265e-03, 1.7531719e-03],\n",
       "         [2.7220300e-03, 2.2145330e-03, 1.6608997e-03],\n",
       "         [2.6758939e-03, 2.2145330e-03, 1.6916571e-03]],\n",
       "\n",
       "        [[7.0742023e-04, 8.1507111e-04, 1.1841600e-03],\n",
       "         [1.3379470e-03, 1.3379470e-03, 1.4609765e-03],\n",
       "         [1.5378700e-03, 1.5071126e-03, 1.3225683e-03],\n",
       "         ...,\n",
       "         [2.8450596e-03, 2.3068052e-03, 1.7685506e-03],\n",
       "         [2.6297579e-03, 2.1068822e-03, 1.5532487e-03],\n",
       "         [2.5990005e-03, 2.1068822e-03, 1.5840061e-03]],\n",
       "\n",
       "        ...,\n",
       "\n",
       "        [[5.0749717e-04, 8.1507111e-04, 1.4609765e-03],\n",
       "         [5.5363326e-04, 7.9969241e-04, 1.4609765e-03],\n",
       "         [6.1514805e-04, 7.6893502e-04, 1.4763552e-03],\n",
       "         ...,\n",
       "         [2.1530183e-03, 2.0915035e-03, 2.2760478e-03],\n",
       "         [2.3221839e-03, 2.3683200e-03, 2.7374087e-03],\n",
       "         [2.1683970e-03, 2.2452904e-03, 2.7681661e-03]],\n",
       "\n",
       "        [[4.7673972e-04, 8.3044986e-04, 1.5224913e-03],\n",
       "         [5.0749717e-04, 8.1507111e-04, 1.5224913e-03],\n",
       "         [5.6901196e-04, 7.8431371e-04, 1.5378700e-03],\n",
       "         ...,\n",
       "         [2.6143792e-03, 2.7220300e-03, 3.0296040e-03],\n",
       "         [2.3375626e-03, 2.4759709e-03, 2.8758170e-03],\n",
       "         [2.2145330e-03, 2.2914265e-03, 2.7527874e-03]],\n",
       "\n",
       "        [[4.6136102e-04, 8.3044986e-04, 1.5532487e-03],\n",
       "         [5.0749717e-04, 8.1507111e-04, 1.5071126e-03],\n",
       "         [5.6901196e-04, 8.1507111e-04, 1.4917339e-03],\n",
       "         ...,\n",
       "         [2.6143792e-03, 2.8143022e-03, 3.2141483e-03],\n",
       "         [2.3529413e-03, 2.5067283e-03, 2.9527105e-03],\n",
       "         [2.1991543e-03, 2.3068052e-03, 2.6912726e-03]]],\n",
       "\n",
       "\n",
       "       [[[2.7066513e-03, 2.1837757e-03, 1.3533257e-03],\n",
       "         [3.0757401e-03, 2.5682431e-03, 1.7224145e-03],\n",
       "         [3.2295270e-03, 2.7374087e-03, 1.8608228e-03],\n",
       "         ...,\n",
       "         [2.1683970e-03, 1.7531719e-03, 1.0149943e-03],\n",
       "         [1.5993848e-03, 1.2764322e-03, 5.6901196e-04],\n",
       "         [1.7377932e-03, 1.4302192e-03, 7.8431371e-04]],\n",
       "\n",
       "        [[2.9373318e-03, 2.3836987e-03, 1.5532487e-03],\n",
       "         [3.1064975e-03, 2.5836218e-03, 1.7224145e-03],\n",
       "         [3.1987696e-03, 2.6912726e-03, 1.8300654e-03],\n",
       "         ...,\n",
       "         [2.3683200e-03, 1.9377163e-03, 1.2149174e-03],\n",
       "         [1.9069589e-03, 1.5686274e-03, 8.9196465e-04],\n",
       "         [1.4302192e-03, 1.1380239e-03, 5.2287587e-04]],\n",
       "\n",
       "        [[3.0142253e-03, 2.4605922e-03, 1.6147635e-03],\n",
       "         [3.2295270e-03, 2.6758939e-03, 1.8300654e-03],\n",
       "         [3.2756634e-03, 2.7374087e-03, 1.8762015e-03],\n",
       "         ...,\n",
       "         [2.4298348e-03, 2.0146100e-03, 1.2456748e-03],\n",
       "         [1.8762015e-03, 1.5378700e-03, 8.3044986e-04],\n",
       "         [1.3533257e-03, 1.0457517e-03, 4.6136102e-04]],\n",
       "\n",
       "        ...,\n",
       "\n",
       "        [[1.0918878e-03, 1.1226452e-03, 9.2272204e-04],\n",
       "         [1.0303730e-03, 1.0611304e-03, 8.7658595e-04],\n",
       "         [9.5347944e-04, 9.6885813e-04, 8.1507111e-04],\n",
       "         ...,\n",
       "         [3.6139947e-03, 3.6293734e-03, 3.4755864e-03],\n",
       "         [3.5832373e-03, 3.6139947e-03, 3.4294503e-03],\n",
       "         [3.5371012e-03, 3.5678586e-03, 3.3679355e-03]],\n",
       "\n",
       "        [[1.0611304e-03, 1.0918878e-03, 8.9196465e-04],\n",
       "         [1.0149943e-03, 1.0303730e-03, 8.4582856e-04],\n",
       "         [9.9961564e-04, 9.9961564e-04, 8.3044986e-04],\n",
       "         ...,\n",
       "         [3.5678586e-03, 3.5986160e-03, 3.4294503e-03],\n",
       "         [3.5832373e-03, 3.6293734e-03, 3.4602077e-03],\n",
       "         [3.5063438e-03, 3.5371012e-03, 3.3833142e-03]],\n",
       "\n",
       "        [[1.0457517e-03, 1.0765091e-03, 9.2272204e-04],\n",
       "         [9.8423695e-04, 9.9961564e-04, 8.4582856e-04],\n",
       "         [9.9961564e-04, 1.0303730e-03, 8.4582856e-04],\n",
       "         ...,\n",
       "         [3.6293734e-03, 3.6601308e-03, 3.4909651e-03],\n",
       "         [3.5371012e-03, 3.5524799e-03, 3.4140716e-03],\n",
       "         [3.5063438e-03, 3.5217225e-03, 3.3986929e-03]]],\n",
       "\n",
       "\n",
       "       [[[4.4598232e-04, 4.7673972e-04, 4.4598232e-04],\n",
       "         [4.3060363e-04, 3.9984621e-04, 3.6908881e-04],\n",
       "         [6.1514805e-04, 4.6136102e-04, 4.1522493e-04],\n",
       "         ...,\n",
       "         [1.7070358e-03, 1.2764322e-03, 1.0457517e-03],\n",
       "         [9.3810074e-04, 7.8431371e-04, 6.4590544e-04],\n",
       "         [7.3817762e-04, 7.2279893e-04, 6.4590544e-04]],\n",
       "\n",
       "        [[4.6136102e-04, 4.9211847e-04, 4.7673972e-04],\n",
       "         [5.0749717e-04, 4.9211847e-04, 4.6136102e-04],\n",
       "         [6.6128414e-04, 5.3825456e-04, 4.9211847e-04],\n",
       "         ...,\n",
       "         [2.0299887e-03, 1.5686274e-03, 1.2302961e-03],\n",
       "         [1.0149943e-03, 7.9969241e-04, 5.9976935e-04],\n",
       "         [6.7666284e-04, 6.3052675e-04, 5.5363326e-04]],\n",
       "\n",
       "        [[5.0749717e-04, 5.2287587e-04, 5.0749717e-04],\n",
       "         [5.3825456e-04, 5.2287587e-04, 4.9211847e-04],\n",
       "         [6.7666284e-04, 5.5363326e-04, 5.2287587e-04],\n",
       "         ...,\n",
       "         [2.4144561e-03, 1.8608228e-03, 1.4763552e-03],\n",
       "         [1.3379470e-03, 1.0303730e-03, 7.9969241e-04],\n",
       "         [8.6120726e-04, 7.5355632e-04, 6.7666284e-04]],\n",
       "\n",
       "        ...,\n",
       "\n",
       "        [[4.4598232e-04, 5.9976935e-04, 1.0918878e-03],\n",
       "         [3.9984621e-04, 5.6901196e-04, 1.0611304e-03],\n",
       "         [4.3060363e-04, 5.5363326e-04, 1.0457517e-03],\n",
       "         ...,\n",
       "         [2.3068051e-04, 2.6143793e-04, 5.9976935e-04],\n",
       "         [1.8454441e-04, 1.6916571e-04, 4.7673972e-04],\n",
       "         [4.9211847e-04, 4.4598232e-04, 7.0742023e-04]],\n",
       "\n",
       "        [[3.6908881e-04, 5.2287587e-04, 1.0457517e-03],\n",
       "         [3.5371011e-04, 5.3825456e-04, 1.0303730e-03],\n",
       "         [3.9984621e-04, 5.9976935e-04, 1.0765091e-03],\n",
       "         ...,\n",
       "         [1.9992310e-04, 2.4605924e-04, 5.8439065e-04],\n",
       "         [2.9219533e-04, 3.2295272e-04, 5.9976935e-04],\n",
       "         [5.8439065e-04, 6.1514805e-04, 8.7658595e-04]],\n",
       "\n",
       "        [[4.1522493e-04, 5.9976935e-04, 1.0918878e-03],\n",
       "         [4.7673972e-04, 6.6128414e-04, 1.1534026e-03],\n",
       "         [4.6136102e-04, 7.0742023e-04, 1.2302961e-03],\n",
       "         ...,\n",
       "         [3.3833142e-04, 4.3060363e-04, 7.9969241e-04],\n",
       "         [3.8446751e-04, 4.7673972e-04, 7.5355632e-04],\n",
       "         [7.9969241e-04, 9.3810074e-04, 1.2456748e-03]]]], dtype=float32)"
      ]
     },
     "execution_count": 3,
     "metadata": {},
     "output_type": "execute_result"
    }
   ],
   "source": [
    "# Choose Person A (most frequent in dataset)\n",
    "person_name = \"George W Bush\"\n",
    "person_id = np.where(names == person_name)[0][0]\n",
    "\n",
    "# Binary labels: 1 = Person A, 0 = Others\n",
    "y_binary = (y == person_id).astype(int)\n",
    "\n",
    "# Normalize image pixels\n",
    "X = X / 255.0\n",
    "\n",
    "X"
   ]
  },
  {
   "cell_type": "code",
   "execution_count": 4,
   "id": "760aa5b1",
   "metadata": {},
   "outputs": [
    {
     "name": "stdout",
     "output_type": "stream",
     "text": [
      "Train set: (1248, 50, 37, 3) (1248,)\n",
      "Test set: (312, 50, 37, 3) (312,)\n"
     ]
    }
   ],
   "source": [
    "X_train, X_test, y_train, y_test = train_test_split(\n",
    "    X, y_binary, test_size=0.2, random_state=42, stratify=y_binary\n",
    ")\n",
    "\n",
    "# Reshape for CNN (add channel dimension)\n",
    "X_train = X_train.reshape(-1, X_train.shape[1], X_train.shape[2], 3)\n",
    "X_test  = X_test.reshape(-1, X_test.shape[1], X_test.shape[2], 3)\n",
    "\n",
    "print(\"Train set:\", X_train.shape, y_train.shape)\n",
    "print(\"Test set:\", X_test.shape, y_test.shape)\n"
   ]
  },
  {
   "cell_type": "code",
   "execution_count": 5,
   "id": "d559443c",
   "metadata": {},
   "outputs": [
    {
     "name": "stderr",
     "output_type": "stream",
     "text": [
      "c:\\Users\\shubh\\Downloads\\AI ML\\venv\\lib\\site-packages\\keras\\src\\layers\\convolutional\\base_conv.py:107: UserWarning: Do not pass an `input_shape`/`input_dim` argument to a layer. When using Sequential models, prefer using an `Input(shape)` object as the first layer in the model instead.\n",
      "  super().__init__(activity_regularizer=activity_regularizer, **kwargs)\n"
     ]
    },
    {
     "data": {
      "text/html": [
       "<pre style=\"white-space:pre;overflow-x:auto;line-height:normal;font-family:Menlo,'DejaVu Sans Mono',consolas,'Courier New',monospace\"><span style=\"font-weight: bold\">Model: \"sequential\"</span>\n",
       "</pre>\n"
      ],
      "text/plain": [
       "\u001b[1mModel: \"sequential\"\u001b[0m\n"
      ]
     },
     "metadata": {},
     "output_type": "display_data"
    },
    {
     "data": {
      "text/html": [
       "<pre style=\"white-space:pre;overflow-x:auto;line-height:normal;font-family:Menlo,'DejaVu Sans Mono',consolas,'Courier New',monospace\">┏━━━━━━━━━━━━━━━━━━━━━━━━━━━━━━━━━┳━━━━━━━━━━━━━━━━━━━━━━━━┳━━━━━━━━━━━━━━━┓\n",
       "┃<span style=\"font-weight: bold\"> Layer (type)                    </span>┃<span style=\"font-weight: bold\"> Output Shape           </span>┃<span style=\"font-weight: bold\">       Param # </span>┃\n",
       "┡━━━━━━━━━━━━━━━━━━━━━━━━━━━━━━━━━╇━━━━━━━━━━━━━━━━━━━━━━━━╇━━━━━━━━━━━━━━━┩\n",
       "│ conv2d (<span style=\"color: #0087ff; text-decoration-color: #0087ff\">Conv2D</span>)                 │ (<span style=\"color: #00d7ff; text-decoration-color: #00d7ff\">None</span>, <span style=\"color: #00af00; text-decoration-color: #00af00\">48</span>, <span style=\"color: #00af00; text-decoration-color: #00af00\">35</span>, <span style=\"color: #00af00; text-decoration-color: #00af00\">32</span>)     │           <span style=\"color: #00af00; text-decoration-color: #00af00\">896</span> │\n",
       "├─────────────────────────────────┼────────────────────────┼───────────────┤\n",
       "│ max_pooling2d (<span style=\"color: #0087ff; text-decoration-color: #0087ff\">MaxPooling2D</span>)    │ (<span style=\"color: #00d7ff; text-decoration-color: #00d7ff\">None</span>, <span style=\"color: #00af00; text-decoration-color: #00af00\">24</span>, <span style=\"color: #00af00; text-decoration-color: #00af00\">17</span>, <span style=\"color: #00af00; text-decoration-color: #00af00\">32</span>)     │             <span style=\"color: #00af00; text-decoration-color: #00af00\">0</span> │\n",
       "├─────────────────────────────────┼────────────────────────┼───────────────┤\n",
       "│ conv2d_1 (<span style=\"color: #0087ff; text-decoration-color: #0087ff\">Conv2D</span>)               │ (<span style=\"color: #00d7ff; text-decoration-color: #00d7ff\">None</span>, <span style=\"color: #00af00; text-decoration-color: #00af00\">22</span>, <span style=\"color: #00af00; text-decoration-color: #00af00\">15</span>, <span style=\"color: #00af00; text-decoration-color: #00af00\">64</span>)     │        <span style=\"color: #00af00; text-decoration-color: #00af00\">18,496</span> │\n",
       "├─────────────────────────────────┼────────────────────────┼───────────────┤\n",
       "│ max_pooling2d_1 (<span style=\"color: #0087ff; text-decoration-color: #0087ff\">MaxPooling2D</span>)  │ (<span style=\"color: #00d7ff; text-decoration-color: #00d7ff\">None</span>, <span style=\"color: #00af00; text-decoration-color: #00af00\">11</span>, <span style=\"color: #00af00; text-decoration-color: #00af00\">7</span>, <span style=\"color: #00af00; text-decoration-color: #00af00\">64</span>)      │             <span style=\"color: #00af00; text-decoration-color: #00af00\">0</span> │\n",
       "├─────────────────────────────────┼────────────────────────┼───────────────┤\n",
       "│ flatten (<span style=\"color: #0087ff; text-decoration-color: #0087ff\">Flatten</span>)               │ (<span style=\"color: #00d7ff; text-decoration-color: #00d7ff\">None</span>, <span style=\"color: #00af00; text-decoration-color: #00af00\">4928</span>)           │             <span style=\"color: #00af00; text-decoration-color: #00af00\">0</span> │\n",
       "├─────────────────────────────────┼────────────────────────┼───────────────┤\n",
       "│ dense (<span style=\"color: #0087ff; text-decoration-color: #0087ff\">Dense</span>)                   │ (<span style=\"color: #00d7ff; text-decoration-color: #00d7ff\">None</span>, <span style=\"color: #00af00; text-decoration-color: #00af00\">128</span>)            │       <span style=\"color: #00af00; text-decoration-color: #00af00\">630,912</span> │\n",
       "├─────────────────────────────────┼────────────────────────┼───────────────┤\n",
       "│ dropout (<span style=\"color: #0087ff; text-decoration-color: #0087ff\">Dropout</span>)               │ (<span style=\"color: #00d7ff; text-decoration-color: #00d7ff\">None</span>, <span style=\"color: #00af00; text-decoration-color: #00af00\">128</span>)            │             <span style=\"color: #00af00; text-decoration-color: #00af00\">0</span> │\n",
       "├─────────────────────────────────┼────────────────────────┼───────────────┤\n",
       "│ dense_1 (<span style=\"color: #0087ff; text-decoration-color: #0087ff\">Dense</span>)                 │ (<span style=\"color: #00d7ff; text-decoration-color: #00d7ff\">None</span>, <span style=\"color: #00af00; text-decoration-color: #00af00\">1</span>)              │           <span style=\"color: #00af00; text-decoration-color: #00af00\">129</span> │\n",
       "└─────────────────────────────────┴────────────────────────┴───────────────┘\n",
       "</pre>\n"
      ],
      "text/plain": [
       "┏━━━━━━━━━━━━━━━━━━━━━━━━━━━━━━━━━┳━━━━━━━━━━━━━━━━━━━━━━━━┳━━━━━━━━━━━━━━━┓\n",
       "┃\u001b[1m \u001b[0m\u001b[1mLayer (type)                   \u001b[0m\u001b[1m \u001b[0m┃\u001b[1m \u001b[0m\u001b[1mOutput Shape          \u001b[0m\u001b[1m \u001b[0m┃\u001b[1m \u001b[0m\u001b[1m      Param #\u001b[0m\u001b[1m \u001b[0m┃\n",
       "┡━━━━━━━━━━━━━━━━━━━━━━━━━━━━━━━━━╇━━━━━━━━━━━━━━━━━━━━━━━━╇━━━━━━━━━━━━━━━┩\n",
       "│ conv2d (\u001b[38;5;33mConv2D\u001b[0m)                 │ (\u001b[38;5;45mNone\u001b[0m, \u001b[38;5;34m48\u001b[0m, \u001b[38;5;34m35\u001b[0m, \u001b[38;5;34m32\u001b[0m)     │           \u001b[38;5;34m896\u001b[0m │\n",
       "├─────────────────────────────────┼────────────────────────┼───────────────┤\n",
       "│ max_pooling2d (\u001b[38;5;33mMaxPooling2D\u001b[0m)    │ (\u001b[38;5;45mNone\u001b[0m, \u001b[38;5;34m24\u001b[0m, \u001b[38;5;34m17\u001b[0m, \u001b[38;5;34m32\u001b[0m)     │             \u001b[38;5;34m0\u001b[0m │\n",
       "├─────────────────────────────────┼────────────────────────┼───────────────┤\n",
       "│ conv2d_1 (\u001b[38;5;33mConv2D\u001b[0m)               │ (\u001b[38;5;45mNone\u001b[0m, \u001b[38;5;34m22\u001b[0m, \u001b[38;5;34m15\u001b[0m, \u001b[38;5;34m64\u001b[0m)     │        \u001b[38;5;34m18,496\u001b[0m │\n",
       "├─────────────────────────────────┼────────────────────────┼───────────────┤\n",
       "│ max_pooling2d_1 (\u001b[38;5;33mMaxPooling2D\u001b[0m)  │ (\u001b[38;5;45mNone\u001b[0m, \u001b[38;5;34m11\u001b[0m, \u001b[38;5;34m7\u001b[0m, \u001b[38;5;34m64\u001b[0m)      │             \u001b[38;5;34m0\u001b[0m │\n",
       "├─────────────────────────────────┼────────────────────────┼───────────────┤\n",
       "│ flatten (\u001b[38;5;33mFlatten\u001b[0m)               │ (\u001b[38;5;45mNone\u001b[0m, \u001b[38;5;34m4928\u001b[0m)           │             \u001b[38;5;34m0\u001b[0m │\n",
       "├─────────────────────────────────┼────────────────────────┼───────────────┤\n",
       "│ dense (\u001b[38;5;33mDense\u001b[0m)                   │ (\u001b[38;5;45mNone\u001b[0m, \u001b[38;5;34m128\u001b[0m)            │       \u001b[38;5;34m630,912\u001b[0m │\n",
       "├─────────────────────────────────┼────────────────────────┼───────────────┤\n",
       "│ dropout (\u001b[38;5;33mDropout\u001b[0m)               │ (\u001b[38;5;45mNone\u001b[0m, \u001b[38;5;34m128\u001b[0m)            │             \u001b[38;5;34m0\u001b[0m │\n",
       "├─────────────────────────────────┼────────────────────────┼───────────────┤\n",
       "│ dense_1 (\u001b[38;5;33mDense\u001b[0m)                 │ (\u001b[38;5;45mNone\u001b[0m, \u001b[38;5;34m1\u001b[0m)              │           \u001b[38;5;34m129\u001b[0m │\n",
       "└─────────────────────────────────┴────────────────────────┴───────────────┘\n"
      ]
     },
     "metadata": {},
     "output_type": "display_data"
    },
    {
     "data": {
      "text/html": [
       "<pre style=\"white-space:pre;overflow-x:auto;line-height:normal;font-family:Menlo,'DejaVu Sans Mono',consolas,'Courier New',monospace\"><span style=\"font-weight: bold\"> Total params: </span><span style=\"color: #00af00; text-decoration-color: #00af00\">650,433</span> (2.48 MB)\n",
       "</pre>\n"
      ],
      "text/plain": [
       "\u001b[1m Total params: \u001b[0m\u001b[38;5;34m650,433\u001b[0m (2.48 MB)\n"
      ]
     },
     "metadata": {},
     "output_type": "display_data"
    },
    {
     "data": {
      "text/html": [
       "<pre style=\"white-space:pre;overflow-x:auto;line-height:normal;font-family:Menlo,'DejaVu Sans Mono',consolas,'Courier New',monospace\"><span style=\"font-weight: bold\"> Trainable params: </span><span style=\"color: #00af00; text-decoration-color: #00af00\">650,433</span> (2.48 MB)\n",
       "</pre>\n"
      ],
      "text/plain": [
       "\u001b[1m Trainable params: \u001b[0m\u001b[38;5;34m650,433\u001b[0m (2.48 MB)\n"
      ]
     },
     "metadata": {},
     "output_type": "display_data"
    },
    {
     "data": {
      "text/html": [
       "<pre style=\"white-space:pre;overflow-x:auto;line-height:normal;font-family:Menlo,'DejaVu Sans Mono',consolas,'Courier New',monospace\"><span style=\"font-weight: bold\"> Non-trainable params: </span><span style=\"color: #00af00; text-decoration-color: #00af00\">0</span> (0.00 B)\n",
       "</pre>\n"
      ],
      "text/plain": [
       "\u001b[1m Non-trainable params: \u001b[0m\u001b[38;5;34m0\u001b[0m (0.00 B)\n"
      ]
     },
     "metadata": {},
     "output_type": "display_data"
    }
   ],
   "source": [
    "model = Sequential([\n",
    "    Conv2D(32, (3,3), activation='relu', input_shape=(X_train.shape[1], X_train.shape[2], 3)),\n",
    "    MaxPooling2D((2,2)),\n",
    "\n",
    "    Conv2D(64, (3,3), activation='relu'),\n",
    "    MaxPooling2D((2,2)),\n",
    "\n",
    "    Flatten(),\n",
    "    Dense(128, activation='relu'),\n",
    "    Dropout(0.5),\n",
    "    Dense(1, activation='sigmoid')   # binary output\n",
    "])\n",
    "\n",
    "model.compile(optimizer='adam', loss='binary_crossentropy', metrics=['accuracy'])\n",
    "model.summary()\n"
   ]
  },
  {
   "cell_type": "code",
   "execution_count": 6,
   "id": "e2bac55f",
   "metadata": {},
   "outputs": [
    {
     "name": "stdout",
     "output_type": "stream",
     "text": [
      "Epoch 1/10\n",
      "\u001b[1m39/39\u001b[0m \u001b[32m━━━━━━━━━━━━━━━━━━━━\u001b[0m\u001b[37m\u001b[0m \u001b[1m1s\u001b[0m 15ms/step - accuracy: 0.6212 - loss: 0.6681 - val_accuracy: 0.6603 - val_loss: 0.6422\n",
      "Epoch 2/10\n",
      "\u001b[1m39/39\u001b[0m \u001b[32m━━━━━━━━━━━━━━━━━━━━\u001b[0m\u001b[37m\u001b[0m \u001b[1m0s\u001b[0m 11ms/step - accuracy: 0.6670 - loss: 0.6396 - val_accuracy: 0.6603 - val_loss: 0.6503\n",
      "Epoch 3/10\n",
      "\u001b[1m39/39\u001b[0m \u001b[32m━━━━━━━━━━━━━━━━━━━━\u001b[0m\u001b[37m\u001b[0m \u001b[1m0s\u001b[0m 11ms/step - accuracy: 0.6711 - loss: 0.6443 - val_accuracy: 0.6603 - val_loss: 0.6439\n",
      "Epoch 4/10\n",
      "\u001b[1m39/39\u001b[0m \u001b[32m━━━━━━━━━━━━━━━━━━━━\u001b[0m\u001b[37m\u001b[0m \u001b[1m0s\u001b[0m 10ms/step - accuracy: 0.6805 - loss: 0.6326 - val_accuracy: 0.6603 - val_loss: 0.6483\n",
      "Epoch 5/10\n",
      "\u001b[1m39/39\u001b[0m \u001b[32m━━━━━━━━━━━━━━━━━━━━\u001b[0m\u001b[37m\u001b[0m \u001b[1m0s\u001b[0m 10ms/step - accuracy: 0.6629 - loss: 0.6465 - val_accuracy: 0.6603 - val_loss: 0.6413\n",
      "Epoch 6/10\n",
      "\u001b[1m39/39\u001b[0m \u001b[32m━━━━━━━━━━━━━━━━━━━━\u001b[0m\u001b[37m\u001b[0m \u001b[1m0s\u001b[0m 11ms/step - accuracy: 0.6620 - loss: 0.6499 - val_accuracy: 0.6603 - val_loss: 0.6410\n",
      "Epoch 7/10\n",
      "\u001b[1m39/39\u001b[0m \u001b[32m━━━━━━━━━━━━━━━━━━━━\u001b[0m\u001b[37m\u001b[0m \u001b[1m0s\u001b[0m 11ms/step - accuracy: 0.6643 - loss: 0.6404 - val_accuracy: 0.6603 - val_loss: 0.6415\n",
      "Epoch 8/10\n",
      "\u001b[1m39/39\u001b[0m \u001b[32m━━━━━━━━━━━━━━━━━━━━\u001b[0m\u001b[37m\u001b[0m \u001b[1m0s\u001b[0m 11ms/step - accuracy: 0.6700 - loss: 0.6375 - val_accuracy: 0.6603 - val_loss: 0.6422\n",
      "Epoch 9/10\n",
      "\u001b[1m39/39\u001b[0m \u001b[32m━━━━━━━━━━━━━━━━━━━━\u001b[0m\u001b[37m\u001b[0m \u001b[1m0s\u001b[0m 11ms/step - accuracy: 0.6588 - loss: 0.6471 - val_accuracy: 0.6603 - val_loss: 0.6408\n",
      "Epoch 10/10\n",
      "\u001b[1m39/39\u001b[0m \u001b[32m━━━━━━━━━━━━━━━━━━━━\u001b[0m\u001b[37m\u001b[0m \u001b[1m0s\u001b[0m 10ms/step - accuracy: 0.6569 - loss: 0.6453 - val_accuracy: 0.6603 - val_loss: 0.6409\n"
     ]
    }
   ],
   "source": [
    "history = model.fit(\n",
    "    X_train, y_train,\n",
    "    epochs=10,\n",
    "    batch_size=32,\n",
    "    validation_data=(X_test, y_test)\n",
    ")\n"
   ]
  },
  {
   "cell_type": "code",
   "execution_count": 7,
   "id": "f69560d3",
   "metadata": {},
   "outputs": [
    {
     "name": "stdout",
     "output_type": "stream",
     "text": [
      "\u001b[1m10/10\u001b[0m \u001b[32m━━━━━━━━━━━━━━━━━━━━\u001b[0m\u001b[37m\u001b[0m \u001b[1m0s\u001b[0m 5ms/step - accuracy: 0.6249 - loss: 0.6652 \n",
      "Test Accuracy: 66.03%\n"
     ]
    },
    {
     "data": {
      "image/png": "[encoded data removed]",
      "text/plain": [
       "<Figure size 640x480 with 1 Axes>"
      ]
     },
     "metadata": {},
     "output_type": "display_data"
    }
   ],
   "source": [
    "loss, acc = model.evaluate(X_test, y_test)\n",
    "print(f\"Test Accuracy: {acc*100:.2f}%\")\n",
    "\n",
    "# Plot training curve\n",
    "plt.plot(history.history['accuracy'], label=\"train acc\")\n",
    "plt.plot(history.history['val_accuracy'], label=\"val acc\")\n",
    "plt.legend(); plt.show()\n"
   ]
  },
  {
   "cell_type": "code",
   "execution_count": 8,
   "id": "3061e60d",
   "metadata": {},
   "outputs": [
    {
     "name": "stdout",
     "output_type": "stream",
     "text": [
      "\u001b[1m10/10\u001b[0m \u001b[32m━━━━━━━━━━━━━━━━━━━━\u001b[0m\u001b[37m\u001b[0m \u001b[1m0s\u001b[0m 8ms/step\n",
      "\n",
      "Classification Report:\n",
      "\n",
      "               precision    recall  f1-score   support\n",
      "\n",
      "       Others       0.66      1.00      0.80       206\n",
      "George W Bush       0.00      0.00      0.00       106\n",
      "\n",
      "     accuracy                           0.66       312\n",
      "    macro avg       0.33      0.50      0.40       312\n",
      " weighted avg       0.44      0.66      0.53       312\n",
      "\n"
     ]
    },
    {
     "name": "stderr",
     "output_type": "stream",
     "text": [
      "c:\\Users\\shubh\\Downloads\\AI ML\\venv\\lib\\site-packages\\sklearn\\metrics\\_classification.py:1565: UndefinedMetricWarning: Precision is ill-defined and being set to 0.0 in labels with no predicted samples. Use `zero_division` parameter to control this behavior.\n",
      "  _warn_prf(average, modifier, f\"{metric.capitalize()} is\", len(result))\n",
      "c:\\Users\\shubh\\Downloads\\AI ML\\venv\\lib\\site-packages\\sklearn\\metrics\\_classification.py:1565: UndefinedMetricWarning: Precision is ill-defined and being set to 0.0 in labels with no predicted samples. Use `zero_division` parameter to control this behavior.\n",
      "  _warn_prf(average, modifier, f\"{metric.capitalize()} is\", len(result))\n",
      "c:\\Users\\shubh\\Downloads\\AI ML\\venv\\lib\\site-packages\\sklearn\\metrics\\_classification.py:1565: UndefinedMetricWarning: Precision is ill-defined and being set to 0.0 in labels with no predicted samples. Use `zero_division` parameter to control this behavior.\n",
      "  _warn_prf(average, modifier, f\"{metric.capitalize()} is\", len(result))\n"
     ]
    },
    {
     "data": {
      "image/png": "[encoded data removed]",
      "text/plain": [
       "<Figure size 640x480 with 2 Axes>"
      ]
     },
     "metadata": {},
     "output_type": "display_data"
    }
   ],
   "source": [
    "y_pred = (model.predict(X_test) > 0.5).astype(int)\n",
    "\n",
    "print(\"\\nClassification Report:\\n\")\n",
    "print(classification_report(y_test, y_pred, target_names=[\"Others\", person_name]))\n",
    "\n",
    "cm = confusion_matrix(y_test, y_pred)\n",
    "sns.heatmap(cm, annot=True, fmt=\"d\", cmap=\"Blues\",\n",
    "            xticklabels=[\"Others\", person_name],\n",
    "            yticklabels=[\"Others\", person_name])\n",
    "plt.xlabel(\"Predicted\")\n",
    "plt.ylabel(\"Actual\")\n",
    "plt.show()\n"
   ]
  },
  {
   "cell_type": "code",
   "execution_count": 9,
   "id": "f6abd71b",
   "metadata": {},
   "outputs": [
    {
     "name": "stderr",
     "output_type": "stream",
     "text": [
      "WARNING:absl:You are saving your model as an HDF5 file via `model.save()` or `keras.saving.save_model(model)`. This file format is considered legacy. We recommend using instead the native Keras format, e.g. `model.save('my_model.keras')` or `keras.saving.save_model(model, 'my_model.keras')`. \n"
     ]
    }
   ],
   "source": [
    "model.save(\"face_binary_model.h5\")\n"
   ]
  },
  {
   "cell_type": "code",
   "execution_count": 10,
   "id": "c6ca7584",
   "metadata": {},
   "outputs": [
    {
     "name": "stdout",
     "output_type": "stream",
     "text": [
      "Dataset shape: (3023, 50, 37, 1)\n",
      "Classes: (array([0, 1]), array([2493,  530], dtype=int64))\n"
     ]
    }
   ],
   "source": [
    "import numpy as np\n",
    "import cv2\n",
    "from sklearn.datasets import fetch_lfw_people\n",
    "from sklearn.model_selection import train_test_split\n",
    "from tensorflow.keras.utils import to_categorical\n",
    "from tensorflow.keras.models import Sequential\n",
    "from tensorflow.keras.layers import Conv2D, MaxPooling2D, Flatten, Dense, Dropout\n",
    "\n",
    "# Load LFW dataset\n",
    "lfw = fetch_lfw_people(min_faces_per_person=20, resize=0.4, color=False)\n",
    "\n",
    "X = lfw.images\n",
    "y_names = lfw.target_names[lfw.target]\n",
    "\n",
    "# Binary classification: \"George W Bush\" vs \"Others\"\n",
    "target_person = \"George W Bush\"\n",
    "y = np.array([1 if name == target_person else 0 for name in y_names])  # 1=PersonA, 0=Others\n",
    "\n",
    "# Normalize\n",
    "X = X / 255.0\n",
    "X = np.expand_dims(X, -1)   # (n, h, w, 1)\n",
    "\n",
    "# Train-test split\n",
    "X_train, X_test, y_train, y_test = train_test_split(X, y, test_size=0.2, random_state=42)\n",
    "\n",
    "# One-hot encode\n",
    "y_train = to_categorical(y_train, 2)\n",
    "y_test = to_categorical(y_test, 2)\n",
    "\n",
    "print(\"Dataset shape:\", X.shape)\n",
    "print(\"Classes:\", np.unique(y, return_counts=True))\n"
   ]
  },
  {
   "cell_type": "code",
   "execution_count": 11,
   "id": "14f08767",
   "metadata": {},
   "outputs": [
    {
     "name": "stderr",
     "output_type": "stream",
     "text": [
      "c:\\Users\\shubh\\Downloads\\AI ML\\venv\\lib\\site-packages\\keras\\src\\layers\\convolutional\\base_conv.py:107: UserWarning: Do not pass an `input_shape`/`input_dim` argument to a layer. When using Sequential models, prefer using an `Input(shape)` object as the first layer in the model instead.\n",
      "  super().__init__(activity_regularizer=activity_regularizer, **kwargs)\n"
     ]
    },
    {
     "data": {
      "text/html": [
       "<pre style=\"white-space:pre;overflow-x:auto;line-height:normal;font-family:Menlo,'DejaVu Sans Mono',consolas,'Courier New',monospace\"><span style=\"font-weight: bold\">Model: \"sequential_1\"</span>\n",
       "</pre>\n"
      ],
      "text/plain": [
       "\u001b[1mModel: \"sequential_1\"\u001b[0m\n"
      ]
     },
     "metadata": {},
     "output_type": "display_data"
    },
    {
     "data": {
      "text/html": [
       "<pre style=\"white-space:pre;overflow-x:auto;line-height:normal;font-family:Menlo,'DejaVu Sans Mono',consolas,'Courier New',monospace\">┏━━━━━━━━━━━━━━━━━━━━━━━━━━━━━━━━━┳━━━━━━━━━━━━━━━━━━━━━━━━┳━━━━━━━━━━━━━━━┓\n",
       "┃<span style=\"font-weight: bold\"> Layer (type)                    </span>┃<span style=\"font-weight: bold\"> Output Shape           </span>┃<span style=\"font-weight: bold\">       Param # </span>┃\n",
       "┡━━━━━━━━━━━━━━━━━━━━━━━━━━━━━━━━━╇━━━━━━━━━━━━━━━━━━━━━━━━╇━━━━━━━━━━━━━━━┩\n",
       "│ conv2d_2 (<span style=\"color: #0087ff; text-decoration-color: #0087ff\">Conv2D</span>)               │ (<span style=\"color: #00d7ff; text-decoration-color: #00d7ff\">None</span>, <span style=\"color: #00af00; text-decoration-color: #00af00\">48</span>, <span style=\"color: #00af00; text-decoration-color: #00af00\">35</span>, <span style=\"color: #00af00; text-decoration-color: #00af00\">32</span>)     │           <span style=\"color: #00af00; text-decoration-color: #00af00\">320</span> │\n",
       "├─────────────────────────────────┼────────────────────────┼───────────────┤\n",
       "│ max_pooling2d_2 (<span style=\"color: #0087ff; text-decoration-color: #0087ff\">MaxPooling2D</span>)  │ (<span style=\"color: #00d7ff; text-decoration-color: #00d7ff\">None</span>, <span style=\"color: #00af00; text-decoration-color: #00af00\">24</span>, <span style=\"color: #00af00; text-decoration-color: #00af00\">17</span>, <span style=\"color: #00af00; text-decoration-color: #00af00\">32</span>)     │             <span style=\"color: #00af00; text-decoration-color: #00af00\">0</span> │\n",
       "├─────────────────────────────────┼────────────────────────┼───────────────┤\n",
       "│ conv2d_3 (<span style=\"color: #0087ff; text-decoration-color: #0087ff\">Conv2D</span>)               │ (<span style=\"color: #00d7ff; text-decoration-color: #00d7ff\">None</span>, <span style=\"color: #00af00; text-decoration-color: #00af00\">22</span>, <span style=\"color: #00af00; text-decoration-color: #00af00\">15</span>, <span style=\"color: #00af00; text-decoration-color: #00af00\">64</span>)     │        <span style=\"color: #00af00; text-decoration-color: #00af00\">18,496</span> │\n",
       "├─────────────────────────────────┼────────────────────────┼───────────────┤\n",
       "│ max_pooling2d_3 (<span style=\"color: #0087ff; text-decoration-color: #0087ff\">MaxPooling2D</span>)  │ (<span style=\"color: #00d7ff; text-decoration-color: #00d7ff\">None</span>, <span style=\"color: #00af00; text-decoration-color: #00af00\">11</span>, <span style=\"color: #00af00; text-decoration-color: #00af00\">7</span>, <span style=\"color: #00af00; text-decoration-color: #00af00\">64</span>)      │             <span style=\"color: #00af00; text-decoration-color: #00af00\">0</span> │\n",
       "├─────────────────────────────────┼────────────────────────┼───────────────┤\n",
       "│ flatten_1 (<span style=\"color: #0087ff; text-decoration-color: #0087ff\">Flatten</span>)             │ (<span style=\"color: #00d7ff; text-decoration-color: #00d7ff\">None</span>, <span style=\"color: #00af00; text-decoration-color: #00af00\">4928</span>)           │             <span style=\"color: #00af00; text-decoration-color: #00af00\">0</span> │\n",
       "├─────────────────────────────────┼────────────────────────┼───────────────┤\n",
       "│ dense_2 (<span style=\"color: #0087ff; text-decoration-color: #0087ff\">Dense</span>)                 │ (<span style=\"color: #00d7ff; text-decoration-color: #00d7ff\">None</span>, <span style=\"color: #00af00; text-decoration-color: #00af00\">128</span>)            │       <span style=\"color: #00af00; text-decoration-color: #00af00\">630,912</span> │\n",
       "├─────────────────────────────────┼────────────────────────┼───────────────┤\n",
       "│ dropout_1 (<span style=\"color: #0087ff; text-decoration-color: #0087ff\">Dropout</span>)             │ (<span style=\"color: #00d7ff; text-decoration-color: #00d7ff\">None</span>, <span style=\"color: #00af00; text-decoration-color: #00af00\">128</span>)            │             <span style=\"color: #00af00; text-decoration-color: #00af00\">0</span> │\n",
       "├─────────────────────────────────┼────────────────────────┼───────────────┤\n",
       "│ dense_3 (<span style=\"color: #0087ff; text-decoration-color: #0087ff\">Dense</span>)                 │ (<span style=\"color: #00d7ff; text-decoration-color: #00d7ff\">None</span>, <span style=\"color: #00af00; text-decoration-color: #00af00\">2</span>)              │           <span style=\"color: #00af00; text-decoration-color: #00af00\">258</span> │\n",
       "└─────────────────────────────────┴────────────────────────┴───────────────┘\n",
       "</pre>\n"
      ],
      "text/plain": [
       "┏━━━━━━━━━━━━━━━━━━━━━━━━━━━━━━━━━┳━━━━━━━━━━━━━━━━━━━━━━━━┳━━━━━━━━━━━━━━━┓\n",
       "┃\u001b[1m \u001b[0m\u001b[1mLayer (type)                   \u001b[0m\u001b[1m \u001b[0m┃\u001b[1m \u001b[0m\u001b[1mOutput Shape          \u001b[0m\u001b[1m \u001b[0m┃\u001b[1m \u001b[0m\u001b[1m      Param #\u001b[0m\u001b[1m \u001b[0m┃\n",
       "┡━━━━━━━━━━━━━━━━━━━━━━━━━━━━━━━━━╇━━━━━━━━━━━━━━━━━━━━━━━━╇━━━━━━━━━━━━━━━┩\n",
       "│ conv2d_2 (\u001b[38;5;33mConv2D\u001b[0m)               │ (\u001b[38;5;45mNone\u001b[0m, \u001b[38;5;34m48\u001b[0m, \u001b[38;5;34m35\u001b[0m, \u001b[38;5;34m32\u001b[0m)     │           \u001b[38;5;34m320\u001b[0m │\n",
       "├─────────────────────────────────┼────────────────────────┼───────────────┤\n",
       "│ max_pooling2d_2 (\u001b[38;5;33mMaxPooling2D\u001b[0m)  │ (\u001b[38;5;45mNone\u001b[0m, \u001b[38;5;34m24\u001b[0m, \u001b[38;5;34m17\u001b[0m, \u001b[38;5;34m32\u001b[0m)     │             \u001b[38;5;34m0\u001b[0m │\n",
       "├─────────────────────────────────┼────────────────────────┼───────────────┤\n",
       "│ conv2d_3 (\u001b[38;5;33mConv2D\u001b[0m)               │ (\u001b[38;5;45mNone\u001b[0m, \u001b[38;5;34m22\u001b[0m, \u001b[38;5;34m15\u001b[0m, \u001b[38;5;34m64\u001b[0m)     │        \u001b[38;5;34m18,496\u001b[0m │\n",
       "├─────────────────────────────────┼────────────────────────┼───────────────┤\n",
       "│ max_pooling2d_3 (\u001b[38;5;33mMaxPooling2D\u001b[0m)  │ (\u001b[38;5;45mNone\u001b[0m, \u001b[38;5;34m11\u001b[0m, \u001b[38;5;34m7\u001b[0m, \u001b[38;5;34m64\u001b[0m)      │             \u001b[38;5;34m0\u001b[0m │\n",
       "├─────────────────────────────────┼────────────────────────┼───────────────┤\n",
       "│ flatten_1 (\u001b[38;5;33mFlatten\u001b[0m)             │ (\u001b[38;5;45mNone\u001b[0m, \u001b[38;5;34m4928\u001b[0m)           │             \u001b[38;5;34m0\u001b[0m │\n",
       "├─────────────────────────────────┼────────────────────────┼───────────────┤\n",
       "│ dense_2 (\u001b[38;5;33mDense\u001b[0m)                 │ (\u001b[38;5;45mNone\u001b[0m, \u001b[38;5;34m128\u001b[0m)            │       \u001b[38;5;34m630,912\u001b[0m │\n",
       "├─────────────────────────────────┼────────────────────────┼───────────────┤\n",
       "│ dropout_1 (\u001b[38;5;33mDropout\u001b[0m)             │ (\u001b[38;5;45mNone\u001b[0m, \u001b[38;5;34m128\u001b[0m)            │             \u001b[38;5;34m0\u001b[0m │\n",
       "├─────────────────────────────────┼────────────────────────┼───────────────┤\n",
       "│ dense_3 (\u001b[38;5;33mDense\u001b[0m)                 │ (\u001b[38;5;45mNone\u001b[0m, \u001b[38;5;34m2\u001b[0m)              │           \u001b[38;5;34m258\u001b[0m │\n",
       "└─────────────────────────────────┴────────────────────────┴───────────────┘\n"
      ]
     },
     "metadata": {},
     "output_type": "display_data"
    },
    {
     "data": {
      "text/html": [
       "<pre style=\"white-space:pre;overflow-x:auto;line-height:normal;font-family:Menlo,'DejaVu Sans Mono',consolas,'Courier New',monospace\"><span style=\"font-weight: bold\"> Total params: </span><span style=\"color: #00af00; text-decoration-color: #00af00\">649,986</span> (2.48 MB)\n",
       "</pre>\n"
      ],
      "text/plain": [
       "\u001b[1m Total params: \u001b[0m\u001b[38;5;34m649,986\u001b[0m (2.48 MB)\n"
      ]
     },
     "metadata": {},
     "output_type": "display_data"
    },
    {
     "data": {
      "text/html": [
       "<pre style=\"white-space:pre;overflow-x:auto;line-height:normal;font-family:Menlo,'DejaVu Sans Mono',consolas,'Courier New',monospace\"><span style=\"font-weight: bold\"> Trainable params: </span><span style=\"color: #00af00; text-decoration-color: #00af00\">649,986</span> (2.48 MB)\n",
       "</pre>\n"
      ],
      "text/plain": [
       "\u001b[1m Trainable params: \u001b[0m\u001b[38;5;34m649,986\u001b[0m (2.48 MB)\n"
      ]
     },
     "metadata": {},
     "output_type": "display_data"
    },
    {
     "data": {
      "text/html": [
       "<pre style=\"white-space:pre;overflow-x:auto;line-height:normal;font-family:Menlo,'DejaVu Sans Mono',consolas,'Courier New',monospace\"><span style=\"font-weight: bold\"> Non-trainable params: </span><span style=\"color: #00af00; text-decoration-color: #00af00\">0</span> (0.00 B)\n",
       "</pre>\n"
      ],
      "text/plain": [
       "\u001b[1m Non-trainable params: \u001b[0m\u001b[38;5;34m0\u001b[0m (0.00 B)\n"
      ]
     },
     "metadata": {},
     "output_type": "display_data"
    }
   ],
   "source": [
    "model = Sequential([\n",
    "    Conv2D(32, (3,3), activation=\"relu\", input_shape=X.shape[1:]),\n",
    "    MaxPooling2D((2,2)),\n",
    "    Conv2D(64, (3,3), activation=\"relu\"),\n",
    "    MaxPooling2D((2,2)),\n",
    "    Flatten(),\n",
    "    Dense(128, activation=\"relu\"),\n",
    "    Dropout(0.5),\n",
    "    Dense(2, activation=\"softmax\")\n",
    "])\n",
    "\n",
    "model.compile(optimizer=\"adam\", loss=\"categorical_crossentropy\", metrics=[\"accuracy\"])\n",
    "\n",
    "model.summary()\n"
   ]
  },
  {
   "cell_type": "code",
   "execution_count": 12,
   "id": "151789fe",
   "metadata": {},
   "outputs": [
    {
     "name": "stdout",
     "output_type": "stream",
     "text": [
      "Epoch 1/10\n",
      "\u001b[1m76/76\u001b[0m \u001b[32m━━━━━━━━━━━━━━━━━━━━\u001b[0m\u001b[37m\u001b[0m \u001b[1m2s\u001b[0m 14ms/step - accuracy: 0.8204 - loss: 0.5366 - val_accuracy: 0.8397 - val_loss: 0.4408\n",
      "Epoch 2/10\n",
      "\u001b[1m76/76\u001b[0m \u001b[32m━━━━━━━━━━━━━━━━━━━━\u001b[0m\u001b[37m\u001b[0m \u001b[1m1s\u001b[0m 11ms/step - accuracy: 0.8169 - loss: 0.4842 - val_accuracy: 0.8397 - val_loss: 0.4409\n",
      "Epoch 3/10\n",
      "\u001b[1m76/76\u001b[0m \u001b[32m━━━━━━━━━━━━━━━━━━━━\u001b[0m\u001b[37m\u001b[0m \u001b[1m1s\u001b[0m 12ms/step - accuracy: 0.8294 - loss: 0.4657 - val_accuracy: 0.8397 - val_loss: 0.4451\n",
      "Epoch 4/10\n",
      "\u001b[1m76/76\u001b[0m \u001b[32m━━━━━━━━━━━━━━━━━━━━\u001b[0m\u001b[37m\u001b[0m \u001b[1m1s\u001b[0m 12ms/step - accuracy: 0.8124 - loss: 0.4946 - val_accuracy: 0.8397 - val_loss: 0.4404\n",
      "Epoch 5/10\n",
      "\u001b[1m76/76\u001b[0m \u001b[32m━━━━━━━━━━━━━━━━━━━━\u001b[0m\u001b[37m\u001b[0m \u001b[1m1s\u001b[0m 11ms/step - accuracy: 0.8277 - loss: 0.4669 - val_accuracy: 0.8397 - val_loss: 0.4474\n",
      "Epoch 6/10\n",
      "\u001b[1m76/76\u001b[0m \u001b[32m━━━━━━━━━━━━━━━━━━━━\u001b[0m\u001b[37m\u001b[0m \u001b[1m1s\u001b[0m 12ms/step - accuracy: 0.8177 - loss: 0.4782 - val_accuracy: 0.8397 - val_loss: 0.4422\n",
      "Epoch 7/10\n",
      "\u001b[1m76/76\u001b[0m \u001b[32m━━━━━━━━━━━━━━━━━━━━\u001b[0m\u001b[37m\u001b[0m \u001b[1m1s\u001b[0m 12ms/step - accuracy: 0.8283 - loss: 0.4666 - val_accuracy: 0.8397 - val_loss: 0.4568\n",
      "Epoch 8/10\n",
      "\u001b[1m76/76\u001b[0m \u001b[32m━━━━━━━━━━━━━━━━━━━━\u001b[0m\u001b[37m\u001b[0m \u001b[1m1s\u001b[0m 12ms/step - accuracy: 0.8147 - loss: 0.4887 - val_accuracy: 0.8397 - val_loss: 0.4434\n",
      "Epoch 9/10\n",
      "\u001b[1m76/76\u001b[0m \u001b[32m━━━━━━━━━━━━━━━━━━━━\u001b[0m\u001b[37m\u001b[0m \u001b[1m1s\u001b[0m 12ms/step - accuracy: 0.8256 - loss: 0.4665 - val_accuracy: 0.8397 - val_loss: 0.4412\n",
      "Epoch 10/10\n",
      "\u001b[1m76/76\u001b[0m \u001b[32m━━━━━━━━━━━━━━━━━━━━\u001b[0m\u001b[37m\u001b[0m \u001b[1m1s\u001b[0m 12ms/step - accuracy: 0.8180 - loss: 0.4803 - val_accuracy: 0.8397 - val_loss: 0.4418\n"
     ]
    }
   ],
   "source": [
    "history = model.fit(X_train, y_train, validation_data=(X_test, y_test),\n",
    "                    epochs=10, batch_size=32, verbose=1)\n"
   ]
  },
  {
   "cell_type": "code",
   "execution_count": 13,
   "id": "10cbf3ce",
   "metadata": {},
   "outputs": [
    {
     "name": "stdout",
     "output_type": "stream",
     "text": [
      "\u001b[1m19/19\u001b[0m \u001b[32m━━━━━━━━━━━━━━━━━━━━\u001b[0m\u001b[37m\u001b[0m \u001b[1m0s\u001b[0m 6ms/step - accuracy: 0.8414 - loss: 0.4387\n",
      "Test Accuracy: 83.97%\n"
     ]
    }
   ],
   "source": [
    "loss, acc = model.evaluate(X_test, y_test)\n",
    "print(f\"Test Accuracy: {acc*100:.2f}%\")\n"
   ]
  },
  {
   "cell_type": "code",
   "execution_count": 14,
   "id": "406bf6d2",
   "metadata": {},
   "outputs": [],
   "source": [
    "face_cascade = cv2.CascadeClassifier(cv2.data.haarcascades + \"haarcascade_frontalface_default.xml\")\n",
    "cap = cv2.VideoCapture(0)\n",
    "\n",
    "img_height, img_width = X.shape[1:3]   # match training dataset shape\n",
    "\n",
    "while True:\n",
    "    ret, frame = cap.read()\n",
    "    gray = cv2.cvtColor(frame, cv2.COLOR_BGR2GRAY)\n",
    "    faces = face_cascade.detectMultiScale(gray, 1.3, 5)\n",
    "\n",
    "    for (x,y,w,h) in faces:\n",
    "        face = gray[y:y+h, x:x+w]\n",
    "        face = cv2.resize(face, (img_width, img_height)) / 255.0\n",
    "        face = np.expand_dims(face, axis=(0,-1))\n",
    "\n",
    "        prediction = model.predict(face, verbose=0)\n",
    "        label = target_person if np.argmax(prediction)==1 else \"Others\"\n",
    "        \n",
    "        cv2.rectangle(frame, (x,y), (x+w,y+h), (255,0,0), 2)\n",
    "        cv2.putText(frame, label, (x,y-10), cv2.FONT_HERSHEY_SIMPLEX, 1, (0,255,0), 2)\n",
    "\n",
    "    cv2.imshow(\"Face Recognition (Binary)\", frame)\n",
    "\n",
    "    if cv2.waitKey(1) & 0xFF == ord('q'):\n",
    "        break\n",
    "\n",
    "cap.release()\n",
    "cv2.destroyAllWindows()\n"
   ]
  },
  {
   "cell_type": "code",
   "execution_count": null,
   "id": "29e436b3",
   "metadata": {},
   "outputs": [],
   "source": []
  }
 ],
 "metadata": {
  "kernelspec": {
   "display_name": "Python 3",
   "language": "python",
   "name": "python3"
  },
  "language_info": {
   "codemirror_mode": {
    "name": "ipython",
    "version": 3
   },
   "file_extension": ".py",
   "mimetype": "text/x-python",
   "name": "python",
   "nbconvert_exporter": "python",
   "pygments_lexer": "ipython3",
   "version": "3.10.0"
  }
 },
 "nbformat": 4,
 "nbformat_minor": 5
}
