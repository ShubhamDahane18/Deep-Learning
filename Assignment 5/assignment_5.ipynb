{
 "cells": [
  {
   "cell_type": "markdown",
   "id": "740b88b5",
   "metadata": {},
   "source": [
    "## Text identification using OpenCV, Tesseract (OCR) and deep neural network "
   ]
  },
  {
   "cell_type": "code",
   "execution_count": null,
   "id": "f3e370ae",
   "metadata": {},
   "outputs": [],
   "source": []
  }
 ],
 "metadata": {
  "kernelspec": {
   "display_name": "Python 3",
   "language": "python",
   "name": "python3"
  },
  "language_info": {
   "name": "python",
   "version": "3.10.0"
  }
 },
 "nbformat": 4,
 "nbformat_minor": 5
}
